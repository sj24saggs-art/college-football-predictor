{
 "cells": [
  {
   "cell_type": "code",
   "execution_count": 2,
   "id": "82b1de36",
   "metadata": {},
   "outputs": [
    {
     "name": "stdout",
     "output_type": "stream",
     "text": [
      "--- Regression Model Evaluation ---\n",
      "Mean Squared Error (MSE): 424.64\n",
      "R-squared (R2): 0.14\n",
      "\n",
      "Model Accuracy for Predicting the Winner: 66.53%\n"
     ]
    }
   ],
   "source": [
    "import pandas as pd\n",
    "import numpy as np\n",
    "from sklearn.model_selection import train_test_split\n",
    "from sklearn.linear_model import LinearRegression\n",
    "from sklearn.metrics import mean_squared_error, r2_score\n",
    "\n",
    "# --- 1. Load and Prepare Data ---\n",
    "df = pd.read_csv('../data/cfb_box-scores_2002-2024.csv')\n",
    "df.loc[df['rank_home'].isnull(), 'rank_home'] = 26\n",
    "df.loc[df['rank_away'].isnull(), 'rank_away'] = 26\n",
    "df.dropna(subset=['score_home', 'score_away'], inplace=True)\n",
    "df['score_home'] = df['score_home'].astype(int)\n",
    "df['score_away'] = df['score_away'].astype(int)\n",
    "\n",
    "# --- 2. Feature Engineering for the Differential Model ---\n",
    "df['score_difference'] = df['score_home'] - df['score_away']\n",
    "df['rank_difference'] = df['rank_home'] - df['rank_away']\n",
    "\n",
    "# --- 3. Build and Train the Model ---\n",
    "X = df[['rank_difference']]\n",
    "y = df['score_difference']\n",
    "X_train, X_test, y_train, y_test = train_test_split(X, y, test_size=0.2, random_state=42)\n",
    "model = LinearRegression()\n",
    "model.fit(X_train, y_train)\n",
    "\n",
    "# --- 4. Evaluate the Model's Performance ---\n",
    "predictions = model.predict(X_test)\n",
    "mse = mean_squared_error(y_test, predictions)\n",
    "r2 = r2_score(y_test, predictions)\n",
    "print(\"--- Regression Model Evaluation ---\")\n",
    "print(f\"Mean Squared Error (MSE): {mse:.2f}\")\n",
    "print(f\"R-squared (R2): {r2:.2f}\")\n",
    "\n",
    "predicted_winner = np.where(predictions > 0, 1, 0)\n",
    "actual_winner = np.where(y_test > 0, 1, 0)\n",
    "accuracy = np.mean(predicted_winner == actual_winner)\n",
    "print(f\"\\nModel Accuracy for Predicting the Winner: {accuracy * 100:.2f}%\")"
   ]
  },
  {
   "cell_type": "code",
   "execution_count": 5,
   "id": "6e090ec1",
   "metadata": {},
   "outputs": [
    {
     "name": "stdout",
     "output_type": "stream",
     "text": [
      "--- Evaluation of Improved Model ---\n",
      "Mean Squared Error (MSE): 162.05\n",
      "R-squared (R2): 0.67\n",
      "Model Accuracy for Predicting the Winner: 81.02%\n"
     ]
    }
   ],
   "source": [
    "# --- Improving the Model (Corrected Code) ---\n",
    "\n",
    "# Create features for both teams' stats\n",
    "df['pass_yards_diff'] = df['pass_yards_home'] - df['pass_yards_away']\n",
    "df['rush_yards_diff'] = df['rush_yards_home'] - df['rush_yards_away']\n",
    "\n",
    "# Define your new, expanded feature set\n",
    "feature_columns = ['rank_difference', 'pass_yards_diff', 'rush_yards_diff']\n",
    "\n",
    "# --- THE FIX ---\n",
    "# Drop any rows where data is missing in our chosen feature columns\n",
    "df.dropna(subset=feature_columns, inplace=True)\n",
    "\n",
    "# Now, define X and y from the fully cleaned DataFrame\n",
    "X = df[feature_columns]\n",
    "y = df['score_difference']\n",
    "\n",
    "# Split, train, and evaluate again\n",
    "X_train, X_test, y_train, y_test = train_test_split(X, y, test_size=0.2, random_state=42)\n",
    "model.fit(X_train, y_train)\n",
    "\n",
    "# --- Re-run the evaluation code to see your new score! ---\n",
    "predictions = model.predict(X_test)\n",
    "mse = mean_squared_error(y_test, predictions)\n",
    "r2 = r2_score(y_test, predictions)\n",
    "predicted_winner = np.where(predictions > 0, 1, 0)\n",
    "actual_winner = np.where(y_test > 0, 1, 0)\n",
    "accuracy = np.mean(predicted_winner == actual_winner)\n",
    "\n",
    "print(\"--- Evaluation of Improved Model ---\")\n",
    "print(f\"Mean Squared Error (MSE): {mse:.2f}\")\n",
    "print(f\"R-squared (R2): {r2:.2f}\")\n",
    "print(f\"Model Accuracy for Predicting the Winner: {accuracy * 100:.2f}%\")"
   ]
  }
 ],
 "metadata": {
  "kernelspec": {
   "display_name": "Python 3",
   "language": "python",
   "name": "python3"
  },
  "language_info": {
   "codemirror_mode": {
    "name": "ipython",
    "version": 3
   },
   "file_extension": ".py",
   "mimetype": "text/x-python",
   "name": "python",
   "nbconvert_exporter": "python",
   "pygments_lexer": "ipython3",
   "version": "3.12.5"
  }
 },
 "nbformat": 4,
 "nbformat_minor": 5
}
